{
 "cells": [
  {
   "cell_type": "code",
   "execution_count": null,
   "metadata": {},
   "outputs": [],
   "source": [
    "import pandas as pd\n",
    "import numpy as np\n",
    "import statsmodels.api as sm\n",
    "from sklearn.preprocessing import MinMaxScaler\n",
    "from sklearn.feature_selection import SelectKBest, chi2, VarianceThreshold, RFE\n",
    "import matplotlib.pyplot as plt\n",
    "import seaborn as sns\n",
    "from sklearn.model_selection import train_test_split, cross_val_score\n",
    "from sklearn.linear_model import LogisticRegression, LinearRegression\n",
    "from sklearn.tree import DecisionTreeClassifier\n",
    "from sklearn.metrics import confusion_matrix, accuracy_score, precision_score, recall_score, f1_score\n",
    "from sklearn.utils import resample"
   ]
  },
  {
   "attachments": {},
   "cell_type": "markdown",
   "metadata": {},
   "source": [
    "### `Load data numerical, categorical and target`"
   ]
  },
  {
   "cell_type": "code",
   "execution_count": null,
   "metadata": {},
   "outputs": [],
   "source": [
    "numericals = pd.read_csv('data/numerical.csv')\n",
    "categoricals = pd.read_csv('data/categorical.csv')\n",
    "targets = pd.read_csv('data/target.csv')\n",
    "\n",
    "print(f\"Numericals shape: {numericals.shape}\")\n",
    "print(f\"Categoricals shape: {categoricals.shape}\")\n",
    "print(f\"Targets shape: {targets.shape}\")"
   ]
  },
  {
   "cell_type": "code",
   "execution_count": null,
   "metadata": {},
   "outputs": [],
   "source": [
    "numericals_with_nan = [col for col in numericals.columns if numericals[col].isna().sum() > 0]\n",
    "categoricals_with_nan = [col for col in categoricals.columns if categoricals[col].isna().sum() > 0]\n",
    "targets_with_nan = [col for col in targets.columns if targets[col].isna().sum() > 0]\n",
    "\n",
    "print(f\"There are '{len(numericals_with_nan)}' NaN columns in Numericals.\")\n",
    "print(f\"There are '{len(categoricals_with_nan)}' NaN columns in Categoricals.\")\n",
    "print(f\"There are '{len(targets_with_nan)}' NaN columns in Targets.\")"
   ]
  },
  {
   "cell_type": "code",
   "execution_count": null,
   "metadata": {},
   "outputs": [],
   "source": [
    "categoricals.dropna(subset=categoricals_with_nan, inplace=True)\n",
    "categoricals[categoricals_with_nan].value_counts(dropna=False)"
   ]
  },
  {
   "cell_type": "code",
   "execution_count": null,
   "metadata": {},
   "outputs": [],
   "source": [
    "important_columns = ['WEALTH1', 'WEALTH2', 'VETERANS', 'SOLIH']"
   ]
  },
  {
   "attachments": {},
   "cell_type": "markdown",
   "metadata": {},
   "source": [
    "### `Numericals - Variance Threshold`"
   ]
  },
  {
   "cell_type": "code",
   "execution_count": null,
   "metadata": {},
   "outputs": [],
   "source": [
    "min_max_scaler = MinMaxScaler()\n",
    "numericals_scaled = min_max_scaler.fit_transform(numericals)"
   ]
  },
  {
   "cell_type": "code",
   "execution_count": null,
   "metadata": {},
   "outputs": [],
   "source": [
    "selector = VarianceThreshold(0.09)\n",
    "selected_numericals = selector.fit_transform(numericals_scaled)\n",
    "\n",
    "columns_to_drop = [col_tuple[0] for col_tuple in zip(numericals.columns, selector.get_support()) if col_tuple[1] == False]\n",
    "\n",
    "print(f\"There are '{len(columns_to_drop)}' columns to drop.\")"
   ]
  },
  {
   "cell_type": "code",
   "execution_count": null,
   "metadata": {},
   "outputs": [],
   "source": [
    "columns_to_drop = [col for col in columns_to_drop if col not in important_columns]\n",
    "numericals_variance = numericals.drop(columns_to_drop, axis=1)\n",
    "numericals_variance.shape"
   ]
  },
  {
   "cell_type": "code",
   "execution_count": null,
   "metadata": {},
   "outputs": [],
   "source": [
    "# Save results to csv\n",
    "\n",
    "numericals_variance.to_csv('numericals_cleaned/numericals_variance.csv')"
   ]
  },
  {
   "cell_type": "code",
   "execution_count": null,
   "metadata": {},
   "outputs": [],
   "source": [
    "def display_heatmap(dataframe):\n",
    "    corr=dataframe.corr()\n",
    "\n",
    "    mask=np.triu(np.ones_like(corr, dtype=bool))     # generate a mask for the upper triangle\n",
    "\n",
    "    f, ax=plt.subplots(figsize=(11, 9))                 # set up the matplotlib figure\n",
    "\n",
    "    cmap=sns.diverging_palette(220, 10, as_cmap=True)   # generate a custom diverging colormap\n",
    "\n",
    "    sns.heatmap(corr, mask=mask, cmap=cmap,             # draw the heatmap with the mask and correct aspect ratio\n",
    "                vmax=.3, center=0, square=True,\n",
    "                linewidths=.5, cbar_kws={\"shrink\": .5})"
   ]
  },
  {
   "cell_type": "code",
   "execution_count": null,
   "metadata": {},
   "outputs": [],
   "source": [
    "display_heatmap(pd.concat([targets[['TARGET_B']], numericals_variance], axis=1))"
   ]
  },
  {
   "cell_type": "code",
   "execution_count": null,
   "metadata": {},
   "outputs": [],
   "source": [
    "numericals_variance_manual_drop = numericals_variance.drop(['POP90C3', 'HC6', 'HC7', 'CLUSTER2'], axis=1)\n",
    "numericals_variance_manual_drop.shape"
   ]
  },
  {
   "cell_type": "code",
   "execution_count": null,
   "metadata": {},
   "outputs": [],
   "source": [
    "# Save results to csv\n",
    "\n",
    "numericals_variance_manual_drop.to_csv('numericals_cleaned/numericals_variance_manual_drop.csv')"
   ]
  },
  {
   "cell_type": "code",
   "execution_count": null,
   "metadata": {},
   "outputs": [],
   "source": [
    "display_heatmap(pd.concat([targets[['TARGET_B']], numericals_variance_manual_drop], axis=1))"
   ]
  },
  {
   "attachments": {},
   "cell_type": "markdown",
   "metadata": {},
   "source": [
    "### `Numericals - Chi2`"
   ]
  },
  {
   "cell_type": "code",
   "execution_count": null,
   "metadata": {},
   "outputs": [],
   "source": [
    "selector = SelectKBest(chi2, k=10)\n",
    "selector.fit(numericals_scaled, targets[['TARGET_B']])\n",
    "mask = selector.get_support()\n",
    "columns_to_drop = numericals.columns[~mask]\n",
    "\n",
    "print(f\"There are '{len(columns_to_drop)}' columns to drop.\")"
   ]
  },
  {
   "cell_type": "code",
   "execution_count": null,
   "metadata": {},
   "outputs": [],
   "source": [
    "columns_to_drop = [col for col in columns_to_drop if col not in important_columns]\n",
    "numericals_chi2 = numericals.drop(columns_to_drop, axis=1)\n",
    "numericals_chi2.shape"
   ]
  },
  {
   "cell_type": "code",
   "execution_count": null,
   "metadata": {},
   "outputs": [],
   "source": [
    "# Save results to csv\n",
    "\n",
    "numericals_chi2.to_csv('numericals_cleaned/numericals_chi2.csv')"
   ]
  },
  {
   "cell_type": "code",
   "execution_count": null,
   "metadata": {},
   "outputs": [],
   "source": [
    "display_heatmap(pd.concat([targets[['TARGET_B']], numericals_chi2], axis=1))"
   ]
  },
  {
   "attachments": {},
   "cell_type": "markdown",
   "metadata": {},
   "source": [
    "### `Numericals - RFE`"
   ]
  },
  {
   "cell_type": "code",
   "execution_count": null,
   "metadata": {},
   "outputs": [],
   "source": [
    "model = LinearRegression()\n",
    "\n",
    "# Create an instance of the RFE class\n",
    "rfe = RFE(model, n_features_to_select=25, verbose=False)\n",
    "\n",
    "# Fit the RFE to the DataFrame\n",
    "rfe.fit(numericals_scaled, targets[['TARGET_B']])\n",
    "\n",
    "# Get the boolean mask of the selected columns\n",
    "mask = rfe.support_\n",
    "\n",
    "# Use the mask to obtain the names of the selected columns\n",
    "columns_to_drop = numericals.columns[~mask]\n",
    "\n",
    "print(f\"There are '{len(columns_to_drop)}' columns to drop.\")"
   ]
  },
  {
   "cell_type": "code",
   "execution_count": null,
   "metadata": {},
   "outputs": [],
   "source": [
    "columns_to_drop = [col for col in columns_to_drop if col not in important_columns]\n",
    "numericals_rfe = numericals.drop(columns_to_drop, axis=1)\n",
    "numericals_rfe.shape"
   ]
  },
  {
   "cell_type": "code",
   "execution_count": null,
   "metadata": {},
   "outputs": [],
   "source": [
    "# Save results to csv\n",
    "\n",
    "numericals_rfe.to_csv('numericals_cleaned/numericals_rfe.csv')"
   ]
  },
  {
   "cell_type": "code",
   "execution_count": null,
   "metadata": {},
   "outputs": [],
   "source": [
    "display_heatmap(pd.concat([targets[['TARGET_B']], numericals_rfe], axis=1))"
   ]
  },
  {
   "cell_type": "code",
   "execution_count": null,
   "metadata": {},
   "outputs": [],
   "source": [
    "numericals_rfe_manual_drop = numericals_rfe.drop(['POP90C1', 'DW1', 'MC2'], axis=1)\n",
    "numericals_rfe_manual_drop.shape"
   ]
  },
  {
   "cell_type": "code",
   "execution_count": null,
   "metadata": {},
   "outputs": [],
   "source": [
    "# Save results to csv\n",
    "\n",
    "numericals_rfe_manual_drop.to_csv('numericals_cleaned/numericals_rfe_manual_drop.csv')"
   ]
  },
  {
   "cell_type": "code",
   "execution_count": null,
   "metadata": {},
   "outputs": [],
   "source": [
    "display_heatmap(pd.concat([targets[['TARGET_B']], numericals_rfe_manual_drop], axis=1))"
   ]
  },
  {
   "attachments": {},
   "cell_type": "markdown",
   "metadata": {},
   "source": [
    "### `Numericals - OLS`"
   ]
  },
  {
   "cell_type": "code",
   "execution_count": null,
   "metadata": {},
   "outputs": [],
   "source": [
    "df = sm.add_constant(numericals_scaled)\n",
    "\n",
    "# Fit the OLS model\n",
    "model = sm.OLS(targets[['TARGET_B']], df)\n",
    "results = model.fit()\n",
    "\n",
    "# Get the p-values of the features\n",
    "pvalues = results.pvalues\n",
    "\n",
    "# Select the features with a p-value more than 0.05\n",
    "columns_to_drop = [col_tuple[0] for col_tuple in zip(numericals.columns, pvalues[1::]) if col_tuple[1] > 0.05]\n",
    "print(f\"There are '{len(columns_to_drop)}' columns to drop.\")"
   ]
  },
  {
   "cell_type": "code",
   "execution_count": null,
   "metadata": {},
   "outputs": [],
   "source": [
    "columns_to_drop = [col for col in columns_to_drop if col not in important_columns]\n",
    "numericals_ols = numericals.drop(columns_to_drop, axis=1)\n",
    "numericals_ols.shape"
   ]
  },
  {
   "cell_type": "code",
   "execution_count": null,
   "metadata": {},
   "outputs": [],
   "source": [
    "# Save results to csv\n",
    "\n",
    "numericals_ols.to_csv('numericals_cleaned/numericals_ols.csv')"
   ]
  },
  {
   "cell_type": "code",
   "execution_count": null,
   "metadata": {},
   "outputs": [],
   "source": [
    "display_heatmap(pd.concat([targets[['TARGET_B']], numericals_ols], axis=1))"
   ]
  },
  {
   "attachments": {},
   "cell_type": "markdown",
   "metadata": {},
   "source": [
    "### `Categoricals`"
   ]
  },
  {
   "cell_type": "code",
   "execution_count": null,
   "metadata": {},
   "outputs": [],
   "source": [
    "categoricals.nunique()"
   ]
  },
  {
   "cell_type": "code",
   "execution_count": null,
   "metadata": {},
   "outputs": [],
   "source": [
    "categoricals.dtypes"
   ]
  },
  {
   "cell_type": "code",
   "execution_count": null,
   "metadata": {},
   "outputs": [],
   "source": [
    "object_columns_from_categoricals = [col for col in categoricals.columns if categoricals[col].dtype == object]"
   ]
  },
  {
   "cell_type": "code",
   "execution_count": null,
   "metadata": {},
   "outputs": [],
   "source": [
    "for col in object_columns_from_categoricals:\n",
    "    categoricals[col] = pd.factorize(categoricals[col])[0]"
   ]
  },
  {
   "cell_type": "code",
   "execution_count": null,
   "metadata": {},
   "outputs": [],
   "source": [
    "# 'RFA_2R' has only 1 unique value so we can drop it\n",
    "\n",
    "categoricals.drop('RFA_2R', axis=1, inplace=True)\n",
    "categoricals.shape"
   ]
  },
  {
   "cell_type": "code",
   "execution_count": null,
   "metadata": {},
   "outputs": [],
   "source": [
    "# Save results to csv\n",
    "\n",
    "categoricals.to_csv('categoricals_cleaned/categoricals.csv')"
   ]
  },
  {
   "cell_type": "code",
   "execution_count": null,
   "metadata": {},
   "outputs": [],
   "source": [
    "# Check correlation matrix on categorical features\n",
    "\n",
    "display_heatmap(pd.concat([targets[['TARGET_B']], categoricals], axis=1))"
   ]
  },
  {
   "attachments": {},
   "cell_type": "markdown",
   "metadata": {},
   "source": [
    "### `Load cached data`"
   ]
  },
  {
   "cell_type": "code",
   "execution_count": 51,
   "metadata": {},
   "outputs": [],
   "source": [
    "numericals = pd.read_csv('data/numerical.csv')\n",
    "numericals_variance = pd.read_csv('numericals_cleaned/numericals_variance.csv')\n",
    "numericals_variance_manual_drop = pd.read_csv('numericals_cleaned/numericals_variance_manual_drop.csv')\n",
    "numericals_chi2 = pd.read_csv('numericals_cleaned/numericals_chi2.csv')\n",
    "numericals_rfe = pd.read_csv('numericals_cleaned/numericals_rfe.csv')\n",
    "numericals_rfe_manual_drop = pd.read_csv('numericals_cleaned/numericals_rfe_manual_drop.csv')\n",
    "numericals_ols = pd.read_csv('numericals_cleaned/numericals_ols.csv')\n",
    "\n",
    "categoricals = pd.read_csv('categoricals_cleaned/categoricals.csv')\n",
    "\n",
    "targets = pd.read_csv('data/target.csv')"
   ]
  },
  {
   "attachments": {},
   "cell_type": "markdown",
   "metadata": {},
   "source": [
    "### `Check accuracy with sets of selected columns`"
   ]
  },
  {
   "attachments": {},
   "cell_type": "markdown",
   "metadata": {},
   "source": [
    "#### `Helper functions`"
   ]
  },
  {
   "cell_type": "code",
   "execution_count": 52,
   "metadata": {},
   "outputs": [],
   "source": [
    "def get_full_df(target_df, features_df):\n",
    "    return pd.concat([target_df, features_df], axis=1).dropna(axis=0).sample(frac=1, random_state=10)\n",
    "\n",
    "\n",
    "def get_full_dfs_with_selection_name(numerical_df_tuples):\n",
    "    return [\n",
    "        (sub_df[0], get_full_df(targets[['TARGET_B']], pd.concat([sub_df[1], categoricals], axis=1))) \n",
    "            for sub_df in numerical_df_tuples\n",
    "    ]\n",
    "\n",
    "\n",
    "def oversample(y_train, X_train):\n",
    "    target_b_0 = y_train[y_train['TARGET_B'] == 0]\n",
    "    target_b_1 = y_train[y_train['TARGET_B'] == 1]\n",
    "\n",
    "    target_b_1_oversampled = resample(target_b_1, replace=True, n_samples=len(target_b_0))\n",
    "    target_b_oversampled = pd.concat([target_b_0, target_b_1_oversampled], axis=0)\n",
    "\n",
    "    full_df = get_full_df(target_b_oversampled, X_train)\n",
    "    return full_df[['TARGET_B']], full_df.drop('TARGET_B', axis=1)\n",
    "\n",
    "\n",
    "def undersample(y_train, X_train):\n",
    "    target_b_0 = y_train[y_train['TARGET_B'] == 0]\n",
    "    target_b_1 = y_train[y_train['TARGET_B'] == 1]\n",
    "\n",
    "    target_b_0_undersampled = resample(target_b_0, replace=False, n_samples=len(target_b_1))\n",
    "    target_b_downsampled = pd.concat([target_b_0_undersampled, target_b_1], axis=0)\n",
    "\n",
    "    full_df = get_full_df(target_b_downsampled, X_train)\n",
    "    return full_df[['TARGET_B']], full_df.drop('TARGET_B', axis=1)\n",
    "\n",
    "\n",
    "def score_selected_columns(numerical_df_tuples, sample_action = ''):\n",
    "    index = 1\n",
    "    df_tuples = get_full_dfs_with_selection_name(numerical_df_tuples)\n",
    "    for tuple in df_tuples:\n",
    "\n",
    "        print(\"================================\")\n",
    "        print(f\"{tuple[0]}\")\n",
    "\n",
    "        y = tuple[1][['TARGET_B']]\n",
    "        X = tuple[1].drop('TARGET_B', axis=1)\n",
    "        X_train, X_test, y_train, y_test = train_test_split(X, y, test_size=0.2, random_state=10)\n",
    "\n",
    "        if sample_action == 'oversample':\n",
    "            y_train, X_train = oversample(y_train=y_train, X_train=X_train)\n",
    "        elif sample_action == 'undersample':\n",
    "            y_train, X_train = undersample(y_train=y_train, X_train=X_train)\n",
    "\n",
    "        # Scaling data = X_train\n",
    "        X_train_transformer = MinMaxScaler().fit(X_train)\n",
    "        X_train_normalized = X_train_transformer.transform(X_train)\n",
    "        X_train_normalized = pd.DataFrame(X_train_normalized)\n",
    "\n",
    "        # Scaling data = X_test\n",
    "        X_test_transformer = MinMaxScaler().fit(X_test)\n",
    "        X_test_normalized = X_test_transformer.transform(X_test)\n",
    "        X_test_normalized = pd.DataFrame(X_test_normalized)\n",
    "\n",
    "        # Create an instance of the DecisionTreeClassifier\n",
    "        clf = DecisionTreeClassifier()\n",
    "\n",
    "        # Fit the classifier to the training data\n",
    "        clf.fit(X_train_normalized, y_train)\n",
    "\n",
    "        # Make predictions on the test data\n",
    "        y_pred = clf.predict(X_test_normalized)\n",
    "\n",
    "        # Calculate the accuracy of the model\n",
    "        display(confusion_matrix(y_test, y_pred))\n",
    "\n",
    "        scores = cross_val_score(clf, X_train_normalized, y_train, cv=10)\n",
    "        # Print the mean and standard deviation of the scores\n",
    "        print(\"Accuracy: %0.2f (+/- %0.2f)\" % (scores.mean(), scores.std() * 2))\n",
    "        \n",
    "        accuracy = accuracy_score(y_test, y_pred)\n",
    "        print(f\"accuracy: {accuracy}\")\n",
    "        print(\"precision: \",precision_score(y_test, y_pred))\n",
    "        print(\"recall: \",recall_score(y_test, y_pred))\n",
    "        print(\"f1: \",f1_score(y_test, y_pred))\n",
    "\n",
    "        print(\"================================\")\n",
    "\n",
    "        index += 1"
   ]
  },
  {
   "attachments": {},
   "cell_type": "markdown",
   "metadata": {},
   "source": [
    "#### `With imbalanced label`"
   ]
  },
  {
   "cell_type": "code",
   "execution_count": 53,
   "metadata": {},
   "outputs": [],
   "source": [
    "numerical_df_tuples = [\n",
    "    ('numericals', numericals), \n",
    "    ('numericals_variance', numericals_variance), \n",
    "    ('numericals_variance_manual_drop', numericals_variance_manual_drop),\n",
    "    ('numericals_chi2', numericals_chi2),\n",
    "    ('numericals_rfe', numericals_rfe),\n",
    "    ('numericals_rfe_manual_drop', numericals_rfe_manual_drop),\n",
    "    ('numericals_ols', numericals_ols)\n",
    "]"
   ]
  },
  {
   "cell_type": "code",
   "execution_count": 54,
   "metadata": {},
   "outputs": [
    {
     "name": "stdout",
     "output_type": "stream",
     "text": [
      "================================\n",
      "numericals\n"
     ]
    },
    {
     "data": {
      "text/plain": [
       "array([[13081,  5036],\n",
       "       [  692,   273]])"
      ]
     },
     "metadata": {},
     "output_type": "display_data"
    },
    {
     "name": "stdout",
     "output_type": "stream",
     "text": [
      "Accuracy: 0.89 (+/- 0.00)\n",
      "accuracy: 0.6998218216119904\n",
      "precision:  0.05142211339235261\n",
      "recall:  0.28290155440414505\n",
      "f1:  0.0870258208479439\n",
      "================================\n",
      "================================\n",
      "numericals_variance\n"
     ]
    },
    {
     "data": {
      "text/plain": [
       "array([[15301,  2816],\n",
       "       [  800,   165]])"
      ]
     },
     "metadata": {},
     "output_type": "display_data"
    },
    {
     "name": "stdout",
     "output_type": "stream",
     "text": [
      "Accuracy: 0.89 (+/- 0.01)\n",
      "accuracy: 0.8105020438109213\n",
      "precision:  0.055350553505535055\n",
      "recall:  0.17098445595854922\n",
      "f1:  0.08362899138367967\n",
      "================================\n",
      "================================\n",
      "numericals_variance_manual_drop\n"
     ]
    },
    {
     "data": {
      "text/plain": [
       "array([[14989,  3128],\n",
       "       [  777,   188]])"
      ]
     },
     "metadata": {},
     "output_type": "display_data"
    },
    {
     "name": "stdout",
     "output_type": "stream",
     "text": [
      "Accuracy: 0.89 (+/- 0.00)\n",
      "accuracy: 0.7953568808301017\n",
      "precision:  0.05669481302774427\n",
      "recall:  0.19481865284974093\n",
      "f1:  0.08782994627423499\n",
      "================================\n",
      "================================\n",
      "numericals_chi2\n"
     ]
    },
    {
     "data": {
      "text/plain": [
       "array([[15587,  2530],\n",
       "       [  803,   162]])"
      ]
     },
     "metadata": {},
     "output_type": "display_data"
    },
    {
     "name": "stdout",
     "output_type": "stream",
     "text": [
      "Accuracy: 0.89 (+/- 0.01)\n",
      "accuracy: 0.8253327743423121\n",
      "precision:  0.060178306092124816\n",
      "recall:  0.16787564766839377\n",
      "f1:  0.08859721082854799\n",
      "================================\n",
      "================================\n",
      "numericals_rfe\n"
     ]
    },
    {
     "data": {
      "text/plain": [
       "array([[15577,  2540],\n",
       "       [  816,   149]])"
      ]
     },
     "metadata": {},
     "output_type": "display_data"
    },
    {
     "name": "stdout",
     "output_type": "stream",
     "text": [
      "Accuracy: 0.89 (+/- 0.01)\n",
      "accuracy: 0.8241274499528352\n",
      "precision:  0.055410933432502786\n",
      "recall:  0.1544041450777202\n",
      "f1:  0.0815544608648057\n",
      "================================\n",
      "================================\n",
      "numericals_rfe_manual_drop\n"
     ]
    },
    {
     "data": {
      "text/plain": [
       "array([[15513,  2604],\n",
       "       [  804,   161]])"
      ]
     },
     "metadata": {},
     "output_type": "display_data"
    },
    {
     "name": "stdout",
     "output_type": "stream",
     "text": [
      "Accuracy: 0.89 (+/- 0.00)\n",
      "accuracy: 0.8214023687244524\n",
      "precision:  0.05822784810126582\n",
      "recall:  0.16683937823834197\n",
      "f1:  0.08632707774798927\n",
      "================================\n",
      "================================\n",
      "numericals_ols\n"
     ]
    },
    {
     "data": {
      "text/plain": [
       "array([[15740,  2377],\n",
       "       [  812,   153]])"
      ]
     },
     "metadata": {},
     "output_type": "display_data"
    },
    {
     "name": "stdout",
     "output_type": "stream",
     "text": [
      "Accuracy: 0.89 (+/- 0.01)\n",
      "accuracy: 0.8328791531286028\n",
      "precision:  0.060474308300395255\n",
      "recall:  0.15854922279792746\n",
      "f1:  0.08755364806866953\n",
      "================================\n"
     ]
    }
   ],
   "source": [
    "score_selected_columns(numerical_df_tuples=numerical_df_tuples)"
   ]
  },
  {
   "attachments": {},
   "cell_type": "markdown",
   "metadata": {},
   "source": [
    "#### `With Undersampling`"
   ]
  },
  {
   "cell_type": "code",
   "execution_count": 55,
   "metadata": {},
   "outputs": [
    {
     "name": "stdout",
     "output_type": "stream",
     "text": [
      "================================\n",
      "numericals\n"
     ]
    },
    {
     "data": {
      "text/plain": [
       "array([[8199, 9918],\n",
       "       [ 413,  552]])"
      ]
     },
     "metadata": {},
     "output_type": "display_data"
    },
    {
     "name": "stdout",
     "output_type": "stream",
     "text": [
      "Accuracy: 0.50 (+/- 0.02)\n",
      "accuracy: 0.45859972749187716\n",
      "precision:  0.05272206303724929\n",
      "recall:  0.572020725388601\n",
      "f1:  0.0965456930476607\n",
      "================================\n",
      "================================\n",
      "numericals_variance\n"
     ]
    },
    {
     "data": {
      "text/plain": [
       "array([[9221, 8896],\n",
       "       [ 434,  531]])"
      ]
     },
     "metadata": {},
     "output_type": "display_data"
    },
    {
     "name": "stdout",
     "output_type": "stream",
     "text": [
      "Accuracy: 0.52 (+/- 0.04)\n",
      "accuracy: 0.5110575411382454\n",
      "precision:  0.0563275697464729\n",
      "recall:  0.550259067357513\n",
      "f1:  0.10219399538106236\n",
      "================================\n",
      "================================\n",
      "numericals_variance_manual_drop\n"
     ]
    },
    {
     "data": {
      "text/plain": [
       "array([[9073, 9044],\n",
       "       [ 462,  503]])"
      ]
     },
     "metadata": {},
     "output_type": "display_data"
    },
    {
     "name": "stdout",
     "output_type": "stream",
     "text": [
      "Accuracy: 0.51 (+/- 0.04)\n",
      "accuracy: 0.5018341892883346\n",
      "precision:  0.052686707866345446\n",
      "recall:  0.5212435233160622\n",
      "f1:  0.09570015220700152\n",
      "================================\n",
      "================================\n",
      "numericals_chi2\n"
     ]
    },
    {
     "data": {
      "text/plain": [
       "array([[9479, 8638],\n",
       "       [ 446,  519]])"
      ]
     },
     "metadata": {},
     "output_type": "display_data"
    },
    {
     "name": "stdout",
     "output_type": "stream",
     "text": [
      "Accuracy: 0.52 (+/- 0.05)\n",
      "accuracy: 0.5239492715648255\n",
      "precision:  0.05667795129409195\n",
      "recall:  0.5378238341968912\n",
      "f1:  0.1025489033787789\n",
      "================================\n",
      "================================\n",
      "numericals_rfe\n"
     ]
    },
    {
     "data": {
      "text/plain": [
       "array([[ 6624, 11493],\n",
       "       [  338,   627]])"
      ]
     },
     "metadata": {},
     "output_type": "display_data"
    },
    {
     "name": "stdout",
     "output_type": "stream",
     "text": [
      "Accuracy: 0.51 (+/- 0.02)\n",
      "accuracy: 0.3799916151346819\n",
      "precision:  0.05173267326732673\n",
      "recall:  0.649740932642487\n",
      "f1:  0.09583492548719907\n",
      "================================\n",
      "================================\n",
      "numericals_rfe_manual_drop\n"
     ]
    },
    {
     "data": {
      "text/plain": [
       "array([[9270, 8847],\n",
       "       [ 517,  448]])"
      ]
     },
     "metadata": {},
     "output_type": "display_data"
    },
    {
     "name": "stdout",
     "output_type": "stream",
     "text": [
      "Accuracy: 0.51 (+/- 0.03)\n",
      "accuracy: 0.509275757258149\n",
      "precision:  0.048197955890263586\n",
      "recall:  0.46424870466321244\n",
      "f1:  0.08732943469785577\n",
      "================================\n",
      "================================\n",
      "numericals_ols\n"
     ]
    },
    {
     "data": {
      "text/plain": [
       "array([[8665, 9452],\n",
       "       [ 433,  532]])"
      ]
     },
     "metadata": {},
     "output_type": "display_data"
    },
    {
     "name": "stdout",
     "output_type": "stream",
     "text": [
      "Accuracy: 0.52 (+/- 0.04)\n",
      "accuracy: 0.4819725395660832\n",
      "precision:  0.05328525641025641\n",
      "recall:  0.5512953367875648\n",
      "f1:  0.0971778244588547\n",
      "================================\n"
     ]
    }
   ],
   "source": [
    "score_selected_columns(numerical_df_tuples=numerical_df_tuples, sample_action='undersample')"
   ]
  },
  {
   "attachments": {},
   "cell_type": "markdown",
   "metadata": {},
   "source": [
    "#### `With Oversampling`"
   ]
  },
  {
   "cell_type": "code",
   "execution_count": 56,
   "metadata": {},
   "outputs": [
    {
     "name": "stdout",
     "output_type": "stream",
     "text": [
      "================================\n",
      "numericals\n"
     ]
    },
    {
     "data": {
      "text/plain": [
       "array([[17227,   890],\n",
       "       [  915,    50]])"
      ]
     },
     "metadata": {},
     "output_type": "display_data"
    },
    {
     "name": "stdout",
     "output_type": "stream",
     "text": [
      "Accuracy: 0.97 (+/- 0.00)\n",
      "accuracy: 0.905408238130175\n",
      "precision:  0.05319148936170213\n",
      "recall:  0.05181347150259067\n",
      "f1:  0.05249343832020997\n",
      "================================\n",
      "================================\n",
      "numericals_variance\n"
     ]
    },
    {
     "data": {
      "text/plain": [
       "array([[17106,  1011],\n",
       "       [  895,    70]])"
      ]
     },
     "metadata": {},
     "output_type": "display_data"
    },
    {
     "name": "stdout",
     "output_type": "stream",
     "text": [
      "Accuracy: 0.97 (+/- 0.00)\n",
      "accuracy: 0.9001152918981239\n",
      "precision:  0.06475485661424607\n",
      "recall:  0.07253886010362694\n",
      "f1:  0.06842619745845553\n",
      "================================\n",
      "================================\n",
      "numericals_variance_manual_drop\n"
     ]
    },
    {
     "data": {
      "text/plain": [
       "array([[17154,   963],\n",
       "       [  912,    53]])"
      ]
     },
     "metadata": {},
     "output_type": "display_data"
    },
    {
     "name": "stdout",
     "output_type": "stream",
     "text": [
      "Accuracy: 0.97 (+/- 0.00)\n",
      "accuracy: 0.9017398595535059\n",
      "precision:  0.05216535433070866\n",
      "recall:  0.054922279792746116\n",
      "f1:  0.05350832912670369\n",
      "================================\n",
      "================================\n",
      "numericals_chi2\n"
     ]
    },
    {
     "data": {
      "text/plain": [
       "array([[17153,   964],\n",
       "       [  898,    67]])"
      ]
     },
     "metadata": {},
     "output_type": "display_data"
    },
    {
     "name": "stdout",
     "output_type": "stream",
     "text": [
      "Accuracy: 0.97 (+/- 0.00)\n",
      "accuracy: 0.9024211298606016\n",
      "precision:  0.06498545101842872\n",
      "recall:  0.0694300518134715\n",
      "f1:  0.06713426853707415\n",
      "================================\n",
      "================================\n",
      "numericals_rfe\n"
     ]
    },
    {
     "data": {
      "text/plain": [
       "array([[17273,   844],\n",
       "       [  913,    52]])"
      ]
     },
     "metadata": {},
     "output_type": "display_data"
    },
    {
     "name": "stdout",
     "output_type": "stream",
     "text": [
      "Accuracy: 0.97 (+/- 0.00)\n",
      "accuracy: 0.9079236977256053\n",
      "precision:  0.05803571428571429\n",
      "recall:  0.0538860103626943\n",
      "f1:  0.05588393336915637\n",
      "================================\n",
      "================================\n",
      "numericals_rfe_manual_drop\n"
     ]
    },
    {
     "data": {
      "text/plain": [
       "array([[17161,   956],\n",
       "       [  917,    48]])"
      ]
     },
     "metadata": {},
     "output_type": "display_data"
    },
    {
     "name": "stdout",
     "output_type": "stream",
     "text": [
      "Accuracy: 0.97 (+/- 0.00)\n",
      "accuracy: 0.9018446703699822\n",
      "precision:  0.04780876494023904\n",
      "recall:  0.049740932642487044\n",
      "f1:  0.04875571356018283\n",
      "================================\n",
      "================================\n",
      "numericals_ols\n"
     ]
    },
    {
     "data": {
      "text/plain": [
       "array([[17364,   753],\n",
       "       [  917,    48]])"
      ]
     },
     "metadata": {},
     "output_type": "display_data"
    },
    {
     "name": "stdout",
     "output_type": "stream",
     "text": [
      "Accuracy: 0.97 (+/- 0.00)\n",
      "accuracy: 0.9124829682423226\n",
      "precision:  0.0599250936329588\n",
      "recall:  0.049740932642487044\n",
      "f1:  0.05436013590033975\n",
      "================================\n"
     ]
    }
   ],
   "source": [
    "score_selected_columns(numerical_df_tuples=numerical_df_tuples, sample_action='oversample')"
   ]
  },
  {
   "attachments": {},
   "cell_type": "markdown",
   "metadata": {},
   "source": [
    "#### `Comments`"
   ]
  },
  {
   "cell_type": "code",
   "execution_count": 57,
   "metadata": {},
   "outputs": [],
   "source": [
    "# Columns selected in 'numericals_variance' with Oversampled 'TARGET_B' seems to give us better results.\n",
    "# Metrics show less false positive and overall better performance."
   ]
  }
 ],
 "metadata": {
  "kernelspec": {
   "display_name": "base",
   "language": "python",
   "name": "python3"
  },
  "language_info": {
   "codemirror_mode": {
    "name": "ipython",
    "version": 3
   },
   "file_extension": ".py",
   "mimetype": "text/x-python",
   "name": "python",
   "nbconvert_exporter": "python",
   "pygments_lexer": "ipython3",
   "version": "3.9.13"
  },
  "orig_nbformat": 4,
  "vscode": {
   "interpreter": {
    "hash": "40d3a090f54c6569ab1632332b64b2c03c39dcf918b08424e98f38b5ae0af88f"
   }
  }
 },
 "nbformat": 4,
 "nbformat_minor": 2
}
